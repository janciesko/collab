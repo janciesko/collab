{
  "cells": [
    {
      "cell_type": "markdown",
      "metadata": {
        "id": "view-in-github",
        "colab_type": "text"
      },
      "source": [
        "<a href=\"https://colab.research.google.com/github/janciesko/collab/blob/main/Kokkos_GPU_Programming.ipynb\" target=\"_parent\"><img src=\"https://colab.research.google.com/assets/colab-badge.svg\" alt=\"Open In Colab\"/></a>"
      ]
    },
    {
      "cell_type": "markdown",
      "metadata": {
        "id": "x4q1SSySb10M"
      },
      "source": [
        "# CUDA Hello World"
      ]
    },
    {
      "cell_type": "code",
      "execution_count": 2,
      "metadata": {
        "colab": {
          "base_uri": "https://localhost:8080/"
        },
        "id": "FKcV4u9nWPAC",
        "outputId": "ac613eff-5f4d-4510-f8af-2b9347e5fd12"
      },
      "outputs": [
        {
          "output_type": "stream",
          "name": "stdout",
          "text": [
            "Overwriting hello_cuda.cu\n"
          ]
        }
      ],
      "source": [
        "%%writefile hello_cuda.cu\n",
        "#include <iostream>\n",
        "#include <cuda_runtime.h>\n",
        "\n",
        "__global__ void helloFromGPU(void) {\n",
        "  printf(\"Hello World from GPU!\\n\");\n",
        "}\n",
        "\n",
        "int main() {\n",
        "  helloFromGPU<<<1, 1>>>();\n",
        "\n",
        "  cudaError_t err = cudaGetLastError();\n",
        "  if (err != cudaSuccess) {\n",
        "    std::cerr << \"CUDA error after kernel launch: \" << cudaGetErrorString(err) << std::endl;\n",
        "    return 1;\n",
        "  }\n",
        "\n",
        "  cudaDeviceSynchronize();  // Wait for GPU to finish\n",
        "\n",
        "  err = cudaGetLastError();\n",
        "  if (err != cudaSuccess) {\n",
        "    std::cerr << \"CUDA error after synchronization: \" << cudaGetErrorString(err) << std::endl;\n",
        "    return 1;\n",
        "  }\n",
        "\n",
        "  std::cout << \"Hello World from CPU!\\n\";\n",
        "  return 0;\n",
        "}"
      ]
    },
    {
      "cell_type": "code",
      "execution_count": 3,
      "metadata": {
        "id": "1Ea8iHbPZr8b",
        "colab": {
          "base_uri": "https://localhost:8080/"
        },
        "outputId": "e5b06f53-97c7-4520-adc5-9cd42a325f8d"
      },
      "outputs": [
        {
          "output_type": "stream",
          "name": "stdout",
          "text": [
            "Hello World from GPU!\n",
            "Hello World from CPU!\n"
          ]
        }
      ],
      "source": [
        "!nvcc -arch=sm_75 -o hello_cuda hello_cuda.cu\n",
        "!./hello_cuda\n",
        "\n"
      ]
    },
    {
      "cell_type": "code",
      "execution_count": 4,
      "metadata": {
        "colab": {
          "base_uri": "https://localhost:8080/"
        },
        "id": "IzMfHdInbeHs",
        "outputId": "b406276b-e0b5-4a3d-9f7c-00cbf690bb89"
      },
      "outputs": [
        {
          "output_type": "stream",
          "name": "stdout",
          "text": [
            "nvcc: NVIDIA (R) Cuda compiler driver\n",
            "Copyright (c) 2005-2024 NVIDIA Corporation\n",
            "Built on Thu_Jun__6_02:18:23_PDT_2024\n",
            "Cuda compilation tools, release 12.5, V12.5.82\n",
            "Build cuda_12.5.r12.5/compiler.34385749_0\n"
          ]
        }
      ],
      "source": [
        "!nvcc --version"
      ]
    },
    {
      "cell_type": "code",
      "execution_count": 5,
      "metadata": {
        "colab": {
          "base_uri": "https://localhost:8080/"
        },
        "id": "ZFWmUZmAZ6Qi",
        "outputId": "1fe05377-f623-4c05-e60c-be9c571dab41"
      },
      "outputs": [
        {
          "output_type": "stream",
          "name": "stdout",
          "text": [
            "Wed Mar 19 18:04:19 2025       \n",
            "+-----------------------------------------------------------------------------------------+\n",
            "| NVIDIA-SMI 550.54.15              Driver Version: 550.54.15      CUDA Version: 12.4     |\n",
            "|-----------------------------------------+------------------------+----------------------+\n",
            "| GPU  Name                 Persistence-M | Bus-Id          Disp.A | Volatile Uncorr. ECC |\n",
            "| Fan  Temp   Perf          Pwr:Usage/Cap |           Memory-Usage | GPU-Util  Compute M. |\n",
            "|                                         |                        |               MIG M. |\n",
            "|=========================================+========================+======================|\n",
            "|   0  Tesla T4                       Off |   00000000:00:04.0 Off |                    0 |\n",
            "| N/A   36C    P8              9W /   70W |       0MiB /  15360MiB |      0%      Default |\n",
            "|                                         |                        |                  N/A |\n",
            "+-----------------------------------------+------------------------+----------------------+\n",
            "                                                                                         \n",
            "+-----------------------------------------------------------------------------------------+\n",
            "| Processes:                                                                              |\n",
            "|  GPU   GI   CI        PID   Type   Process name                              GPU Memory |\n",
            "|        ID   ID                                                               Usage      |\n",
            "|=========================================================================================|\n",
            "|  No running processes found                                                             |\n",
            "+-----------------------------------------------------------------------------------------+\n"
          ]
        }
      ],
      "source": [
        "!nvidia-smi\n"
      ]
    },
    {
      "cell_type": "markdown",
      "metadata": {
        "id": "0ZUrgnXob8bv"
      },
      "source": [
        "# Kokkos Hello World"
      ]
    },
    {
      "cell_type": "code",
      "execution_count": 7,
      "metadata": {
        "id": "9Ym-f71TXDZi"
      },
      "outputs": [],
      "source": [
        "!mkdir MyProject && cd MyProject"
      ]
    },
    {
      "cell_type": "code",
      "execution_count": 8,
      "metadata": {
        "colab": {
          "base_uri": "https://localhost:8080/"
        },
        "id": "-mvlc6EYXuzN",
        "outputId": "a4f9c877-46b9-4af6-c737-b9bb7ecfe388"
      },
      "outputs": [
        {
          "output_type": "stream",
          "name": "stdout",
          "text": [
            "Writing MyProject/CMakeLists.txt\n"
          ]
        }
      ],
      "source": [
        "%%writefile MyProject/CMakeLists.txt\n",
        "\n",
        "cmake_minimum_required(VERSION 3.16)\n",
        "project(MyProject)\n",
        "\n",
        "include(FetchContent)\n",
        "FetchContent_Declare(\n",
        "  Kokkos\n",
        "  URL https://github.com/kokkos/kokkos/archive/refs/tags/4.5.01.zip\n",
        ")\n",
        "FetchContent_MakeAvailable(Kokkos)\n",
        "\n",
        "add_executable(HelloKokkos HelloKokkos.cpp)\n",
        "target_link_libraries(HelloKokkos Kokkos::kokkos)"
      ]
    },
    {
      "cell_type": "code",
      "execution_count": 9,
      "metadata": {
        "colab": {
          "base_uri": "https://localhost:8080/"
        },
        "id": "HV5kQ4TeV46Z",
        "outputId": "a2a0de5f-d04a-46bf-9f19-915756caab94"
      },
      "outputs": [
        {
          "output_type": "stream",
          "name": "stdout",
          "text": [
            "Writing MyProject/HelloKokkos.cpp\n"
          ]
        }
      ],
      "source": [
        "%%writefile MyProject/HelloKokkos.cpp\n",
        "#include <Kokkos_Core.hpp>\n",
        "\n",
        "int main(int argc, char** argv) {\n",
        "  Kokkos::initialize(argc, argv);\n",
        "  {\n",
        "    // Allocate a 1-dimensional view of integers\n",
        "    Kokkos::View<int*> v(\"v\", 5);\n",
        "    // Fill view with sequentially increasing values v=[0,1,2,3,4]\n",
        "    Kokkos::parallel_for(\"fill\", 5, KOKKOS_LAMBDA(int i) { v(i) = i; });\n",
        "    // Compute accumulated sum of v's elements r=0+1+2+3+4\n",
        "    int r;\n",
        "    Kokkos::parallel_reduce(\n",
        "      \"accumulate\", 5,\n",
        "      KOKKOS_LAMBDA(int i, int& partial_r) { partial_r += v(i); }, r);\n",
        "    // Check the result\n",
        "    KOKKOS_ASSERT(r == 10);\n",
        "  }\n",
        "  Kokkos::printf(\"Goodbye World\\n\");\n",
        "  Kokkos::finalize();\n",
        "  return 0;\n",
        "}"
      ]
    },
    {
      "cell_type": "code",
      "source": [
        "!cd MyProject && cmake -B builddir -DKokkos_ENABLE_CUDA=ON"
      ],
      "metadata": {
        "colab": {
          "base_uri": "https://localhost:8080/"
        },
        "id": "Cm1vrCbXXpM-",
        "outputId": "af2ddcd4-dbc5-4c05-9409-aba0850e6487"
      },
      "execution_count": 10,
      "outputs": [
        {
          "output_type": "stream",
          "name": "stdout",
          "text": [
            "-- The C compiler identification is GNU 11.4.0\n",
            "-- The CXX compiler identification is GNU 11.4.0\n",
            "-- Detecting C compiler ABI info\n",
            "-- Detecting C compiler ABI info - done\n",
            "-- Check for working C compiler: /usr/bin/cc - skipped\n",
            "-- Detecting C compile features\n",
            "-- Detecting C compile features - done\n",
            "-- Detecting CXX compiler ABI info\n",
            "-- Detecting CXX compiler ABI info - done\n",
            "-- Check for working CXX compiler: /usr/bin/c++ - skipped\n",
            "-- Detecting CXX compile features\n",
            "-- Detecting CXX compile features - done\n",
            "\u001b[33mCMake Warning (dev) at /usr/local/lib/python3.11/dist-packages/cmake/data/share/cmake-3.31/Modules/FetchContent.cmake:1373 (message):\n",
            "  The DOWNLOAD_EXTRACT_TIMESTAMP option was not given and policy CMP0135 is\n",
            "  not set.  The policy's OLD behavior will be used.  When using a URL\n",
            "  download, the timestamps of extracted files should preferably be that of\n",
            "  the time of extraction, otherwise code that depends on the extracted\n",
            "  contents might not be rebuilt if the URL changes.  The OLD behavior\n",
            "  preserves the timestamps from the archive instead, but this is usually not\n",
            "  what you want.  Update your project to the NEW behavior or specify the\n",
            "  DOWNLOAD_EXTRACT_TIMESTAMP option with a value of true to avoid this\n",
            "  robustness issue.\n",
            "Call Stack (most recent call first):\n",
            "  CMakeLists.txt:6 (FetchContent_Declare)\n",
            "This warning is for project developers.  Use -Wno-dev to suppress it.\n",
            "\u001b[0m\n",
            "-- Setting default Kokkos CXX standard to 17\n",
            "-- Kokkos version: 4.5.1\n",
            "-- The project name is: Kokkos\n",
            "-- Using internal gtest for testing\n",
            "-- Compiler Version: 12.5.82\n",
            "-- kokkos_launch_compiler (/content/MyProject/builddir/_deps/kokkos-src/bin/kokkos_launch_compiler) is enabled...\n",
            "-- SERIAL backend is being turned on to ensure there is at least one Host space. To change this, you must enable another host execution space and configure with -DKokkos_ENABLE_SERIAL=OFF or change CMakeCache.txt\n",
            "-- Using -std=c++17 for C++17 standard as feature\n",
            "-- CUDA auto-detection of architecture failed with /usr/bin/c++. Enabling CUDA language ONLY to auto-detect architecture...\n",
            "-- Looking for a CUDA compiler\n",
            "-- Looking for a CUDA compiler - /usr/local/cuda/bin/nvcc\n",
            "-- The CUDA compiler identification is NVIDIA 12.5.82 with host compiler GNU 11.4.0\n",
            "-- Detecting CUDA compiler ABI info\n",
            "-- Detecting CUDA compiler ABI info - done\n",
            "-- Check for working CUDA compiler: /usr/local/cuda/bin/nvcc - skipped\n",
            "-- Detecting CUDA compile features\n",
            "-- Detecting CUDA compile features - done\n",
            "-- Detected CUDA Compute Capability 75\n",
            "-- Setting Kokkos_ARCH_TURING75=ON\n",
            "-- Built-in Execution Spaces:\n",
            "--     Device Parallel: Kokkos::Cuda\n",
            "--     Host Parallel: NoTypeDefined\n",
            "--       Host Serial: SERIAL\n",
            "-- \n",
            "-- Architectures:\n",
            "--  TURING75\n",
            "-- Found CUDAToolkit: /usr/local/cuda/targets/x86_64-linux/include (found version \"12.5.82\")\n",
            "-- Performing Test CMAKE_HAVE_LIBC_PTHREAD\n",
            "-- Performing Test CMAKE_HAVE_LIBC_PTHREAD - Success\n",
            "-- Found Threads: TRUE\n",
            "-- Found TPLLIBDL: /usr/include\n",
            "-- Using internal desul_atomics copy\n",
            "-- Experimental mdspan support is enabled\n",
            "-- Looking for C++ include experimental/mdspan\n",
            "-- Looking for C++ include experimental/mdspan - not found\n",
            "-- Looking for C++ include mdspan\n",
            "-- Looking for C++ include mdspan - not found\n",
            "-- Using internal mdspan directory /content/MyProject/builddir/_deps/kokkos-src/tpls/mdspan/include\n",
            "-- Kokkos Backends: SERIAL;CUDA\n",
            "-- Configuring done (11.6s)\n",
            "-- Generating done (0.1s)\n",
            "-- Build files have been written to: /content/MyProject/builddir\n"
          ]
        }
      ]
    },
    {
      "cell_type": "code",
      "source": [
        "!cd MyProject && cmake --build builddir"
      ],
      "metadata": {
        "colab": {
          "base_uri": "https://localhost:8080/"
        },
        "id": "iX8Duh5uaA8i",
        "outputId": "f94dd7be-f3c7-40e3-e50e-5b530b369892"
      },
      "execution_count": null,
      "outputs": [
        {
          "output_type": "stream",
          "name": "stdout",
          "text": [
            "[  6%] Built target kokkossimd\n",
            "[ 80%] Built target kokkoscore\n",
            "[ 86%] Built target kokkoscontainers\n",
            "[ 93%] Built target HelloKokkos\n",
            "[ 93%] Built target AlwaysCheckGit\n",
            "[100%] Built target impl_git_version\n"
          ]
        }
      ]
    },
    {
      "cell_type": "code",
      "source": [
        "!cd MyProject/builddir && ./HelloKokkos"
      ],
      "metadata": {
        "colab": {
          "base_uri": "https://localhost:8080/"
        },
        "id": "M4D-Y2Tcay4L",
        "outputId": "8ee4a398-5363-42b2-a843-1d9ad9dc0925"
      },
      "execution_count": null,
      "outputs": [
        {
          "output_type": "stream",
          "name": "stdout",
          "text": [
            "Goodbye World\n"
          ]
        }
      ]
    }
  ],
  "metadata": {
    "colab": {
      "provenance": [],
      "gpuType": "T4",
      "include_colab_link": true
    },
    "kernelspec": {
      "display_name": "Python 3",
      "name": "python3"
    },
    "accelerator": "GPU"
  },
  "nbformat": 4,
  "nbformat_minor": 0
}